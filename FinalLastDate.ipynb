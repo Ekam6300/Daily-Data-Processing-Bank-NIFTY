{
 "cells": [
  {
   "cell_type": "code",
   "execution_count": 2,
   "id": "ed03a289",
   "metadata": {},
   "outputs": [
    {
     "ename": "KeyboardInterrupt",
     "evalue": "",
     "output_type": "error",
     "traceback": [
      "\u001b[0;31m---------------------------------------------------------------------------\u001b[0m",
      "\u001b[0;31mKeyboardInterrupt\u001b[0m                         Traceback (most recent call last)",
      "\u001b[0;32m/var/folders/2m/7jpbbths71l5z0q4ms4vnwhr0000gn/T/ipykernel_1716/4079801015.py\u001b[0m in \u001b[0;36m<module>\u001b[0;34m\u001b[0m\n\u001b[1;32m     58\u001b[0m \u001b[0;34m\u001b[0m\u001b[0m\n\u001b[1;32m     59\u001b[0m     \u001b[0;32mfor\u001b[0m \u001b[0mi\u001b[0m \u001b[0;32min\u001b[0m \u001b[0mrange\u001b[0m\u001b[0;34m(\u001b[0m\u001b[0mlen\u001b[0m\u001b[0;34m(\u001b[0m\u001b[0mdf\u001b[0m\u001b[0;34m)\u001b[0m \u001b[0;34m-\u001b[0m \u001b[0;36m1\u001b[0m\u001b[0;34m)\u001b[0m\u001b[0;34m:\u001b[0m\u001b[0;34m\u001b[0m\u001b[0;34m\u001b[0m\u001b[0m\n\u001b[0;32m---> 60\u001b[0;31m         \u001b[0;32mif\u001b[0m \u001b[0mdf\u001b[0m\u001b[0;34m.\u001b[0m\u001b[0mloc\u001b[0m\u001b[0;34m[\u001b[0m\u001b[0mi\u001b[0m\u001b[0;34m,\u001b[0m\u001b[0;34m'Day'\u001b[0m\u001b[0;34m]\u001b[0m \u001b[0;34m>\u001b[0m \u001b[0mdf\u001b[0m\u001b[0;34m.\u001b[0m\u001b[0mloc\u001b[0m\u001b[0;34m[\u001b[0m\u001b[0mi\u001b[0m\u001b[0;34m+\u001b[0m\u001b[0;36m1\u001b[0m\u001b[0;34m,\u001b[0m\u001b[0;34m'Day'\u001b[0m\u001b[0;34m]\u001b[0m\u001b[0;34m:\u001b[0m\u001b[0;34m\u001b[0m\u001b[0;34m\u001b[0m\u001b[0m\n\u001b[0m\u001b[1;32m     61\u001b[0m             \u001b[0mdf\u001b[0m\u001b[0;34m.\u001b[0m\u001b[0mloc\u001b[0m\u001b[0;34m[\u001b[0m\u001b[0mi\u001b[0m\u001b[0;34m+\u001b[0m\u001b[0;36m1\u001b[0m\u001b[0;34m,\u001b[0m\u001b[0;34m'Day'\u001b[0m\u001b[0;34m]\u001b[0m \u001b[0;34m=\u001b[0m \u001b[0;34m-\u001b[0m\u001b[0;36m1\u001b[0m\u001b[0;34m\u001b[0m\u001b[0;34m\u001b[0m\u001b[0m\n\u001b[1;32m     62\u001b[0m \u001b[0;34m\u001b[0m\u001b[0m\n",
      "\u001b[0;32m~/opt/anaconda3/lib/python3.9/site-packages/pandas/core/indexing.py\u001b[0m in \u001b[0;36m__getitem__\u001b[0;34m(self, key)\u001b[0m\n\u001b[1;32m    922\u001b[0m             \u001b[0;32mif\u001b[0m \u001b[0mself\u001b[0m\u001b[0;34m.\u001b[0m\u001b[0m_is_scalar_access\u001b[0m\u001b[0;34m(\u001b[0m\u001b[0mkey\u001b[0m\u001b[0;34m)\u001b[0m\u001b[0;34m:\u001b[0m\u001b[0;34m\u001b[0m\u001b[0;34m\u001b[0m\u001b[0m\n\u001b[1;32m    923\u001b[0m                 \u001b[0;32mwith\u001b[0m \u001b[0msuppress\u001b[0m\u001b[0;34m(\u001b[0m\u001b[0mKeyError\u001b[0m\u001b[0;34m,\u001b[0m \u001b[0mIndexError\u001b[0m\u001b[0;34m)\u001b[0m\u001b[0;34m:\u001b[0m\u001b[0;34m\u001b[0m\u001b[0;34m\u001b[0m\u001b[0m\n\u001b[0;32m--> 924\u001b[0;31m                     \u001b[0;32mreturn\u001b[0m \u001b[0mself\u001b[0m\u001b[0;34m.\u001b[0m\u001b[0mobj\u001b[0m\u001b[0;34m.\u001b[0m\u001b[0m_get_value\u001b[0m\u001b[0;34m(\u001b[0m\u001b[0;34m*\u001b[0m\u001b[0mkey\u001b[0m\u001b[0;34m,\u001b[0m \u001b[0mtakeable\u001b[0m\u001b[0;34m=\u001b[0m\u001b[0mself\u001b[0m\u001b[0;34m.\u001b[0m\u001b[0m_takeable\u001b[0m\u001b[0;34m)\u001b[0m\u001b[0;34m\u001b[0m\u001b[0;34m\u001b[0m\u001b[0m\n\u001b[0m\u001b[1;32m    925\u001b[0m             \u001b[0;32mreturn\u001b[0m \u001b[0mself\u001b[0m\u001b[0;34m.\u001b[0m\u001b[0m_getitem_tuple\u001b[0m\u001b[0;34m(\u001b[0m\u001b[0mkey\u001b[0m\u001b[0;34m)\u001b[0m\u001b[0;34m\u001b[0m\u001b[0;34m\u001b[0m\u001b[0m\n\u001b[1;32m    926\u001b[0m         \u001b[0;32melse\u001b[0m\u001b[0;34m:\u001b[0m\u001b[0;34m\u001b[0m\u001b[0;34m\u001b[0m\u001b[0m\n",
      "\u001b[0;32m~/opt/anaconda3/lib/python3.9/site-packages/pandas/core/frame.py\u001b[0m in \u001b[0;36m_get_value\u001b[0;34m(self, index, col, takeable)\u001b[0m\n\u001b[1;32m   3577\u001b[0m \u001b[0;34m\u001b[0m\u001b[0m\n\u001b[1;32m   3578\u001b[0m         \u001b[0;32mtry\u001b[0m\u001b[0;34m:\u001b[0m\u001b[0;34m\u001b[0m\u001b[0;34m\u001b[0m\u001b[0m\n\u001b[0;32m-> 3579\u001b[0;31m             \u001b[0mloc\u001b[0m \u001b[0;34m=\u001b[0m \u001b[0mengine\u001b[0m\u001b[0;34m.\u001b[0m\u001b[0mget_loc\u001b[0m\u001b[0;34m(\u001b[0m\u001b[0mindex\u001b[0m\u001b[0;34m)\u001b[0m\u001b[0;34m\u001b[0m\u001b[0;34m\u001b[0m\u001b[0m\n\u001b[0m\u001b[1;32m   3580\u001b[0m             \u001b[0;32mreturn\u001b[0m \u001b[0mseries\u001b[0m\u001b[0;34m.\u001b[0m\u001b[0m_values\u001b[0m\u001b[0;34m[\u001b[0m\u001b[0mloc\u001b[0m\u001b[0;34m]\u001b[0m\u001b[0;34m\u001b[0m\u001b[0;34m\u001b[0m\u001b[0m\n\u001b[1;32m   3581\u001b[0m         \u001b[0;32mexcept\u001b[0m \u001b[0mAttributeError\u001b[0m\u001b[0;34m:\u001b[0m\u001b[0;34m\u001b[0m\u001b[0;34m\u001b[0m\u001b[0m\n",
      "\u001b[0;31mKeyboardInterrupt\u001b[0m: "
     ]
    }
   ],
   "source": [
    "import pandas as pd\n",
    "from datetime import datetime as dt\n",
    "import os\n",
    "\n",
    "path = os.path.join(os.getcwd() + \"/Output\")\n",
    "\n",
    "if not (os.path.exists(path)):\n",
    "    os.makedirs(path)\n",
    "csv_files = []\n",
    "for file in os.listdir(os.getcwd()):\n",
    "    if file.endswith(\".csv\"):\n",
    "        csv_files.append(file)\n",
    "\n",
    "for files in csv_files:\n",
    "    df2 = pd.read_csv(files)\n",
    "    df3 = pd.read_csv('Source/Last_date.csv')\n",
    "    for col in df3.columns[2:]:\n",
    "        df3[col].values[:] = 0  \n",
    "        \n",
    "    ldt = pd.to_datetime(df2.iloc[-1][\"Date\"])\n",
    "\n",
    "    df3[\"Date\"] = ldt\n",
    "\n",
    "    df3['Date'] = pd.to_datetime(df3['Date'])\n",
    "    df3['Time'] = pd.to_datetime(df3['Time'],format=\"%H:%M:%S\").dt.time\n",
    "\n",
    "    df2['Date'] = pd.to_datetime(df2['Date'])\n",
    "    df2['Time'] = pd.to_datetime(df2['Time'],format=\"%H:%M:%S\").dt.time\n",
    "\n",
    "    df3[\"DT\"] = df3['Date'].astype(str) + ' ' + df3['Time'].astype(str)\n",
    "    df2[\"DT\"] = df2['Date'].astype(str) + ' ' + df2['Time'].astype(str)\n",
    "\n",
    "    r1 = df2[(pd.to_datetime(df2['DT'])).isin(pd.to_datetime(df3['DT']))]\n",
    "\n",
    "    r2 = df3[~(pd.to_datetime(df3['DT'])).isin(pd.to_datetime(df2['DT']))]\n",
    "\n",
    "\n",
    "    df = pd.concat([r2,r1],axis=0,ignore_index = True)\n",
    "\n",
    "    df = df.sort_values(by=\"DT\",ignore_index = True)\n",
    "\n",
    "    r3 = df2[~(pd.to_datetime(df2['DT'])).isin(pd.to_datetime(df['DT']))]\n",
    "\n",
    "    df = r3.append(df, ignore_index=True)\n",
    "    df['Day'] = 0\n",
    "    for days in range(len(df)):\n",
    "        if (df.loc[days ,\"Date\"].weekday() == 0):\n",
    "            df.loc[days,'Day'] = 2\n",
    "        elif (df.loc[days,\"Date\"].weekday() == 1):\n",
    "            df.loc[days,\"Day\"] = 3\n",
    "        elif (df.loc[days,\"Date\"].weekday() == 2):\n",
    "            df.loc[days,\"Day\"] = 4\n",
    "        elif (df.loc[days,\"Date\"].weekday() == 3):\n",
    "            df.loc[days,\"Day\"] = 5\n",
    "        else :\n",
    "            df.loc[days,\"Day\"] = 1\n",
    "\n",
    "    for i in range(len(df) - 1):\n",
    "        if df.loc[i,'Day'] > df.loc[i+1,'Day']:\n",
    "            df.loc[i+1,'Day'] = -1\n",
    "\n",
    "    for i in range(len(df) - 1):    \n",
    "        if (df.loc[i + 1, 'Day'] != -1) & (df.loc[i + 1, \"Open\"] == 0) &(df.loc[i+1,\"Date\"] == ldt):\n",
    "            df.loc[i+1, \"Open\"] = df.loc[i, \"Close\"] \n",
    "            df.loc[i + 1, 'High'] = df.loc[i, \"Close\"]\n",
    "            df.loc[i + 1, 'Low'] = df.loc[i, \"Close\"]\n",
    "            df.loc[i + 1, 'Close'] = df.loc[i, \"Close\"]\n",
    "            df.loc[i+1, \"Open Interest\"] = df.loc[i, \"Open Interest\"]\n",
    "    df = df.drop(['DT', 'Day'], axis=1)\n",
    "\n",
    "    df.to_csv(f\"Output/{files}\", index=False)"
   ]
  },
  {
   "cell_type": "code",
   "execution_count": null,
   "id": "57a98545",
   "metadata": {},
   "outputs": [],
   "source": []
  }
 ],
 "metadata": {
  "kernelspec": {
   "display_name": "Python 3 (ipykernel)",
   "language": "python",
   "name": "python3"
  },
  "language_info": {
   "codemirror_mode": {
    "name": "ipython",
    "version": 3
   },
   "file_extension": ".py",
   "mimetype": "text/x-python",
   "name": "python",
   "nbconvert_exporter": "python",
   "pygments_lexer": "ipython3",
   "version": "3.9.7"
  }
 },
 "nbformat": 4,
 "nbformat_minor": 5
}
